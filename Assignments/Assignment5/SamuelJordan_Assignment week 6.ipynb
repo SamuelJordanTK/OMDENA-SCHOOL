{
 "cells": [
  {
   "cell_type": "markdown",
   "id": "b8de1f64",
   "metadata": {},
   "source": [
    "# Tinotenda Mangarai Assignment week 6"
   ]
  },
  {
   "cell_type": "code",
   "execution_count": 1,
   "id": "f51afa8e",
   "metadata": {},
   "outputs": [],
   "source": [
    "# Loading PAckages\n",
    "import pandas as pd\n",
    "from sqlalchemy import create_engine\n"
   ]
  },
  {
   "cell_type": "markdown",
   "id": "51b4005c",
   "metadata": {},
   "source": [
    "# creating the ETL pipeline, calculating total sales amount for each product"
   ]
  },
  {
   "cell_type": "code",
   "execution_count": 10,
   "id": "75516ee1",
   "metadata": {},
   "outputs": [],
   "source": [
    "def extract_data(file_path):\n",
    "    \"\"\"Extract data from the given CSV file.\"\"\"\n",
    "    df = pd.read_csv(file_path)\n",
    "    return df\n",
    "\n",
    "def transform_data(df):\n",
    "    \"\"\"calculating total sales amount for each product.\"\"\"\n",
    "    transformed_df = df.groupby('product_id')['total_price'].sum().reset_index()\n",
    "    transformed_df.columns = ['product_id', 'total_sales_amount']\n",
    "    return transformed_df\n",
    "\n",
    "def load_data(transformed_df, database_uri, table_name):\n",
    "    \"\"\"Loading the transformed df into a database.\"\"\"\n",
    "    engine = create_engine(database_uri)\n",
    "    transformed_df.to_sql(table_name, con=engine, if_exists='replace', index=False)\n",
    "\n",
    "def view_data(database_uri, table_name):\n",
    "    \"\"\"Viewing data from the database table\"\"\"\n",
    "    engine = create_engine(database_uri)\n",
    "    with engine.connect() as connection:\n",
    "        result = pd.read_sql_table(table_name, con=connection)\n",
    "        print(result)\n",
    "\n",
    "def run_etl_pipeline(file_path, database_uri, table_name):\n",
    "    \"\"\"Running the ETL pipeline\"\"\"\n",
    "    # Extract\n",
    "    df = extract_data(file_path)\n",
    "    \n",
    "    # Transform\n",
    "    transformed_df = transform_data(df)\n",
    "    \n",
    "    # Load\n",
    "    load_data(transformed_df, database_uri, table_name)\n",
    "    \n",
    "    # View data\n",
    "    view_data(database_uri, table_name)\n",
    "    \n",
    "    print(f\"ETL DONE!. Data loaded into the '{table_name}' table in the '{database_uri}' database.\")\n"
   ]
  },
  {
   "cell_type": "markdown",
   "id": "1d740b40",
   "metadata": {},
   "source": [
    "# testing the ETL pipeline"
   ]
  },
  {
   "cell_type": "code",
   "execution_count": 12,
   "id": "b027815f",
   "metadata": {},
   "outputs": [
    {
     "name": "stdout",
     "output_type": "stream",
     "text": [
      "    product_id  total_sales_amount\n",
      "0         bed1             5831.77\n",
      "1         bed2            42938.66\n",
      "2         bed3            10304.96\n",
      "3         bed4             6011.77\n",
      "4         bed5            29997.36\n",
      "5   computers1            12306.81\n",
      "6   computers2            15439.25\n",
      "7   computers3            15111.82\n",
      "8   computers4            46916.51\n",
      "9   computers5            11240.96\n",
      "10  computers6            41082.60\n",
      "11   consoles1             3416.70\n",
      "12   consoles2             2384.00\n",
      "13       cool1            11868.42\n",
      "14       cool2            15159.81\n",
      "15       cool3             3656.50\n",
      "16       cool4            17643.92\n",
      "17       cool5             9627.65\n",
      "18  furniture1             6162.11\n",
      "19  furniture2            37608.90\n",
      "20  furniture3             3507.95\n",
      "21  furniture4             9646.20\n",
      "22     garden1            14869.03\n",
      "23    garden10            21390.69\n",
      "24     garden2             7333.70\n",
      "25     garden3            14492.14\n",
      "26     garden4            21056.80\n",
      "27     garden5            10759.30\n",
      "28     garden6            26577.22\n",
      "29     garden7             6220.90\n",
      "30     garden8            20495.56\n",
      "31     garden9            20387.20\n",
      "32     health1            10368.78\n",
      "33    health10             7757.91\n",
      "34     health2            63885.00\n",
      "35     health3            18889.44\n",
      "36     health4             4096.30\n",
      "37     health5            54730.20\n",
      "38     health6             9862.50\n",
      "39     health7            13866.69\n",
      "40     health8            22627.23\n",
      "41     health9             6325.19\n",
      "42  perfumery1             7675.62\n",
      "43  perfumery2            12636.90\n",
      "44    watches1            31786.82\n",
      "45    watches2            20593.22\n",
      "46    watches3            12475.00\n",
      "47    watches4            23943.00\n",
      "48    watches5            30467.50\n",
      "49    watches6            37683.42\n",
      "50    watches7            31623.81\n",
      "51    watches8            19009.40\n",
      "ETL DONE!. Data loaded into the 'sales_summary' table in the 'sqlite:///C:\\Users\\Tinotenda Mangarai\\Documents\\Data Science\\Omdena Advanced Data Science\\sales_data.db' database.\n"
     ]
    }
   ],
   "source": [
    "if __name__ == \"__main__\":\n",
    "    file_path = r\"C:\\Users\\Tinotenda Mangarai\\Documents\\Data Science\\Omdena Advanced Data Science\\retail_price.csv\"\n",
    "    database_uri = r\"sqlite:///C:\\Users\\Tinotenda Mangarai\\Documents\\Data Science\\Omdena Advanced Data Science\\sales_data.db\"\n",
    "    table_name = 'sales_summary'\n",
    "    run_etl_pipeline(file_path, database_uri, table_name)"
   ]
  },
  {
   "cell_type": "code",
   "execution_count": null,
   "id": "3977e3e9",
   "metadata": {},
   "outputs": [],
   "source": []
  }
 ],
 "metadata": {
  "kernelspec": {
   "display_name": "Python 3 (ipykernel)",
   "language": "python",
   "name": "python3"
  },
  "language_info": {
   "codemirror_mode": {
    "name": "ipython",
    "version": 3
   },
   "file_extension": ".py",
   "mimetype": "text/x-python",
   "name": "python",
   "nbconvert_exporter": "python",
   "pygments_lexer": "ipython3",
   "version": "3.10.9"
  }
 },
 "nbformat": 4,
 "nbformat_minor": 5
}
